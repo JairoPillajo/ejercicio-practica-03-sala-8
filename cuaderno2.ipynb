{
 "cells": [
  {
   "cell_type": "code",
   "execution_count": 1,
   "id": "0e6dcda8-754a-4a94-bb7f-2b8201b1f914",
   "metadata": {},
   "outputs": [],
   "source": [
    "import pandas as pd"
   ]
  },
  {
   "cell_type": "code",
   "execution_count": 2,
   "id": "54047249-a211-4d92-a18f-de38092ae0c4",
   "metadata": {},
   "outputs": [],
   "source": [
    "data = pd.read_csv(\"cuaderno1.csv\")"
   ]
  },
  {
   "cell_type": "code",
   "execution_count": 3,
   "id": "e4e6c334-6d64-43a9-899d-53130695b8e1",
   "metadata": {
    "collapsed": true,
    "jupyter": {
     "outputs_hidden": true
    }
   },
   "outputs": [
    {
     "name": "stdout",
     "output_type": "stream",
     "text": [
      "Requirement already satisfied: pygwalker in c:\\users\\jairo\\appdata\\local\\programs\\python\\python312\\lib\\site-packages (0.4.8)\n",
      "Requirement already satisfied: appdirs in c:\\users\\jairo\\appdata\\local\\programs\\python\\python312\\lib\\site-packages (from pygwalker) (1.4.4)\n",
      "Requirement already satisfied: arrow in c:\\users\\jairo\\appdata\\local\\programs\\python\\python312\\lib\\site-packages (from pygwalker) (1.3.0)\n",
      "Requirement already satisfied: astor in c:\\users\\jairo\\appdata\\local\\programs\\python\\python312\\lib\\site-packages (from pygwalker) (0.8.1)\n",
      "Requirement already satisfied: cachetools in c:\\users\\jairo\\appdata\\local\\programs\\python\\python312\\lib\\site-packages (from pygwalker) (5.3.3)\n",
      "Requirement already satisfied: duckdb==0.10.1 in c:\\users\\jairo\\appdata\\local\\programs\\python\\python312\\lib\\site-packages (from pygwalker) (0.10.1)\n",
      "Requirement already satisfied: gw-dsl-parser==0.1.47 in c:\\users\\jairo\\appdata\\local\\programs\\python\\python312\\lib\\site-packages (from pygwalker) (0.1.47)\n",
      "Requirement already satisfied: ipython in c:\\users\\jairo\\appdata\\local\\programs\\python\\python312\\lib\\site-packages (from pygwalker) (8.23.0)\n",
      "Requirement already satisfied: ipywidgets in c:\\users\\jairo\\appdata\\local\\programs\\python\\python312\\lib\\site-packages (from pygwalker) (8.1.2)\n",
      "Requirement already satisfied: jinja2 in c:\\users\\jairo\\appdata\\local\\programs\\python\\python312\\lib\\site-packages (from pygwalker) (3.1.3)\n",
      "Requirement already satisfied: kanaries-track==0.0.4 in c:\\users\\jairo\\appdata\\local\\programs\\python\\python312\\lib\\site-packages (from pygwalker) (0.0.4)\n",
      "Requirement already satisfied: packaging in c:\\users\\jairo\\appdata\\local\\programs\\python\\python312\\lib\\site-packages (from pygwalker) (24.0)\n",
      "Requirement already satisfied: pandas in c:\\users\\jairo\\appdata\\local\\programs\\python\\python312\\lib\\site-packages (from pygwalker) (2.2.2)\n",
      "Requirement already satisfied: psutil in c:\\users\\jairo\\appdata\\local\\programs\\python\\python312\\lib\\site-packages (from pygwalker) (5.9.8)\n",
      "Requirement already satisfied: pyarrow in c:\\users\\jairo\\appdata\\local\\programs\\python\\python312\\lib\\site-packages (from pygwalker) (16.0.0)\n",
      "Requirement already satisfied: pydantic in c:\\users\\jairo\\appdata\\local\\programs\\python\\python312\\lib\\site-packages (from pygwalker) (2.7.0)\n",
      "Requirement already satisfied: pytz in c:\\users\\jairo\\appdata\\local\\programs\\python\\python312\\lib\\site-packages (from pygwalker) (2024.1)\n",
      "Requirement already satisfied: requests in c:\\users\\jairo\\appdata\\local\\programs\\python\\python312\\lib\\site-packages (from pygwalker) (2.31.0)\n",
      "Requirement already satisfied: segment-analytics-python==2.2.3 in c:\\users\\jairo\\appdata\\local\\programs\\python\\python312\\lib\\site-packages (from pygwalker) (2.2.3)\n",
      "Requirement already satisfied: sqlalchemy in c:\\users\\jairo\\appdata\\local\\programs\\python\\python312\\lib\\site-packages (from pygwalker) (2.0.29)\n",
      "Requirement already satisfied: sqlglot>=19.0.0 in c:\\users\\jairo\\appdata\\local\\programs\\python\\python312\\lib\\site-packages (from pygwalker) (23.11.2)\n",
      "Requirement already satisfied: typing-extensions in c:\\users\\jairo\\appdata\\local\\programs\\python\\python312\\lib\\site-packages (from pygwalker) (4.11.0)\n",
      "Requirement already satisfied: wasmtime==12.0.0 in c:\\users\\jairo\\appdata\\local\\programs\\python\\python312\\lib\\site-packages (from gw-dsl-parser==0.1.47->pygwalker) (12.0.0)\n",
      "Requirement already satisfied: backoff>=2.2.1 in c:\\users\\jairo\\appdata\\local\\programs\\python\\python312\\lib\\site-packages (from kanaries-track==0.0.4->pygwalker) (2.2.1)\n",
      "Requirement already satisfied: dateutils>=0.6.12 in c:\\users\\jairo\\appdata\\local\\programs\\python\\python312\\lib\\site-packages (from kanaries-track==0.0.4->pygwalker) (0.6.12)\n",
      "Requirement already satisfied: monotonic~=1.5 in c:\\users\\jairo\\appdata\\local\\programs\\python\\python312\\lib\\site-packages (from segment-analytics-python==2.2.3->pygwalker) (1.6)\n",
      "Requirement already satisfied: python-dateutil~=2.2 in c:\\users\\jairo\\appdata\\local\\programs\\python\\python312\\lib\\site-packages (from segment-analytics-python==2.2.3->pygwalker) (2.9.0.post0)\n",
      "Requirement already satisfied: charset-normalizer<4,>=2 in c:\\users\\jairo\\appdata\\local\\programs\\python\\python312\\lib\\site-packages (from requests->pygwalker) (3.3.2)\n",
      "Requirement already satisfied: idna<4,>=2.5 in c:\\users\\jairo\\appdata\\local\\programs\\python\\python312\\lib\\site-packages (from requests->pygwalker) (3.7)\n",
      "Requirement already satisfied: urllib3<3,>=1.21.1 in c:\\users\\jairo\\appdata\\local\\programs\\python\\python312\\lib\\site-packages (from requests->pygwalker) (2.2.1)\n",
      "Requirement already satisfied: certifi>=2017.4.17 in c:\\users\\jairo\\appdata\\local\\programs\\python\\python312\\lib\\site-packages (from requests->pygwalker) (2024.2.2)\n",
      "Requirement already satisfied: types-python-dateutil>=2.8.10 in c:\\users\\jairo\\appdata\\local\\programs\\python\\python312\\lib\\site-packages (from arrow->pygwalker) (2.9.0.20240316)\n",
      "Requirement already satisfied: decorator in c:\\users\\jairo\\appdata\\local\\programs\\python\\python312\\lib\\site-packages (from ipython->pygwalker) (5.1.1)\n",
      "Requirement already satisfied: jedi>=0.16 in c:\\users\\jairo\\appdata\\local\\programs\\python\\python312\\lib\\site-packages (from ipython->pygwalker) (0.19.1)\n",
      "Requirement already satisfied: matplotlib-inline in c:\\users\\jairo\\appdata\\local\\programs\\python\\python312\\lib\\site-packages (from ipython->pygwalker) (0.1.6)\n",
      "Requirement already satisfied: prompt-toolkit<3.1.0,>=3.0.41 in c:\\users\\jairo\\appdata\\local\\programs\\python\\python312\\lib\\site-packages (from ipython->pygwalker) (3.0.43)\n",
      "Requirement already satisfied: pygments>=2.4.0 in c:\\users\\jairo\\appdata\\local\\programs\\python\\python312\\lib\\site-packages (from ipython->pygwalker) (2.17.2)\n",
      "Requirement already satisfied: stack-data in c:\\users\\jairo\\appdata\\local\\programs\\python\\python312\\lib\\site-packages (from ipython->pygwalker) (0.6.3)\n",
      "Requirement already satisfied: traitlets>=5.13.0 in c:\\users\\jairo\\appdata\\local\\programs\\python\\python312\\lib\\site-packages (from ipython->pygwalker) (5.14.2)\n",
      "Requirement already satisfied: colorama in c:\\users\\jairo\\appdata\\local\\programs\\python\\python312\\lib\\site-packages (from ipython->pygwalker) (0.4.6)\n",
      "Requirement already satisfied: comm>=0.1.3 in c:\\users\\jairo\\appdata\\local\\programs\\python\\python312\\lib\\site-packages (from ipywidgets->pygwalker) (0.2.2)\n",
      "Requirement already satisfied: widgetsnbextension~=4.0.10 in c:\\users\\jairo\\appdata\\local\\programs\\python\\python312\\lib\\site-packages (from ipywidgets->pygwalker) (4.0.10)\n",
      "Requirement already satisfied: jupyterlab-widgets~=3.0.10 in c:\\users\\jairo\\appdata\\local\\programs\\python\\python312\\lib\\site-packages (from ipywidgets->pygwalker) (3.0.10)\n",
      "Requirement already satisfied: MarkupSafe>=2.0 in c:\\users\\jairo\\appdata\\local\\programs\\python\\python312\\lib\\site-packages (from jinja2->pygwalker) (2.1.5)\n",
      "Requirement already satisfied: numpy>=1.26.0 in c:\\users\\jairo\\appdata\\local\\programs\\python\\python312\\lib\\site-packages (from pandas->pygwalker) (1.26.4)\n",
      "Requirement already satisfied: tzdata>=2022.7 in c:\\users\\jairo\\appdata\\local\\programs\\python\\python312\\lib\\site-packages (from pandas->pygwalker) (2024.1)\n",
      "Requirement already satisfied: annotated-types>=0.4.0 in c:\\users\\jairo\\appdata\\local\\programs\\python\\python312\\lib\\site-packages (from pydantic->pygwalker) (0.6.0)\n",
      "Requirement already satisfied: pydantic-core==2.18.1 in c:\\users\\jairo\\appdata\\local\\programs\\python\\python312\\lib\\site-packages (from pydantic->pygwalker) (2.18.1)\n",
      "Requirement already satisfied: greenlet!=0.4.17 in c:\\users\\jairo\\appdata\\local\\programs\\python\\python312\\lib\\site-packages (from sqlalchemy->pygwalker) (3.0.3)\n",
      "Requirement already satisfied: parso<0.9.0,>=0.8.3 in c:\\users\\jairo\\appdata\\local\\programs\\python\\python312\\lib\\site-packages (from jedi>=0.16->ipython->pygwalker) (0.8.4)\n",
      "Requirement already satisfied: wcwidth in c:\\users\\jairo\\appdata\\local\\programs\\python\\python312\\lib\\site-packages (from prompt-toolkit<3.1.0,>=3.0.41->ipython->pygwalker) (0.2.13)\n",
      "Requirement already satisfied: six>=1.5 in c:\\users\\jairo\\appdata\\local\\programs\\python\\python312\\lib\\site-packages (from python-dateutil~=2.2->segment-analytics-python==2.2.3->pygwalker) (1.16.0)\n",
      "Requirement already satisfied: executing>=1.2.0 in c:\\users\\jairo\\appdata\\local\\programs\\python\\python312\\lib\\site-packages (from stack-data->ipython->pygwalker) (2.0.1)\n",
      "Requirement already satisfied: asttokens>=2.1.0 in c:\\users\\jairo\\appdata\\local\\programs\\python\\python312\\lib\\site-packages (from stack-data->ipython->pygwalker) (2.4.1)\n",
      "Requirement already satisfied: pure-eval in c:\\users\\jairo\\appdata\\local\\programs\\python\\python312\\lib\\site-packages (from stack-data->ipython->pygwalker) (0.2.2)\n"
     ]
    }
   ],
   "source": [
    "!pip install pygwalker"
   ]
  },
  {
   "cell_type": "code",
   "execution_count": 4,
   "id": "e6b64af0-53fd-434e-a7ed-4fea3f1438cc",
   "metadata": {},
   "outputs": [],
   "source": [
    "#reiniciar jupyter lab"
   ]
  },
  {
   "cell_type": "code",
   "execution_count": 5,
   "id": "abe546d1-8a49-424d-8eaf-bceefd5fa6d0",
   "metadata": {},
   "outputs": [],
   "source": [
    "import pygwalker as pyg"
   ]
  },
  {
   "cell_type": "code",
   "execution_count": 6,
   "id": "dfa47b5b-b501-46be-be1b-abd2a45731ea",
   "metadata": {},
   "outputs": [
    {
     "data": {
      "application/vnd.jupyter.widget-view+json": {
       "model_id": "8b00ca057869440fb6ab3909c141da18",
       "version_major": 2,
       "version_minor": 0
      },
      "text/plain": [
       "Box(children=(HTML(value='<div id=\"ifr-pyg-000616cebce40f3eYrEMCe2gX4Hxva7A\" style=\"height: auto\">\\n    <head>…"
      ]
     },
     "metadata": {},
     "output_type": "display_data"
    },
    {
     "data": {
      "text/html": [],
      "text/plain": [
       "<IPython.core.display.HTML object>"
      ]
     },
     "metadata": {},
     "output_type": "display_data"
    },
    {
     "data": {
      "text/plain": [
       "<pygwalker.api.pygwalker.PygWalker at 0x284e93038f0>"
      ]
     },
     "execution_count": 6,
     "metadata": {},
     "output_type": "execute_result"
    }
   ],
   "source": [
    "pyg.walk(data)"
   ]
  },
  {
   "cell_type": "code",
   "execution_count": null,
   "id": "89f21dbb-ac69-44c6-ab5a-f58418470be0",
   "metadata": {},
   "outputs": [],
   "source": []
  }
 ],
 "metadata": {
  "kernelspec": {
   "display_name": "Python 3 (ipykernel)",
   "language": "python",
   "name": "python3"
  },
  "language_info": {
   "codemirror_mode": {
    "name": "ipython",
    "version": 3
   },
   "file_extension": ".py",
   "mimetype": "text/x-python",
   "name": "python",
   "nbconvert_exporter": "python",
   "pygments_lexer": "ipython3",
   "version": "3.12.3"
  }
 },
 "nbformat": 4,
 "nbformat_minor": 5
}
